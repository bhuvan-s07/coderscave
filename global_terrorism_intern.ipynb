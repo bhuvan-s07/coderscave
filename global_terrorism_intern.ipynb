{
  "cells": [
    {
      "cell_type": "markdown",
      "metadata": {
        "id": "view-in-github",
        "colab_type": "text"
      },
      "source": [
        "<a href=\"https://colab.research.google.com/github/bhuvan-s07/coderscave/blob/main/global_terrorism_intern.ipynb\" target=\"_parent\"><img src=\"https://colab.research.google.com/assets/colab-badge.svg\" alt=\"Open In Colab\"/></a>"
      ]
    },
    {
      "cell_type": "code",
      "execution_count": null,
      "metadata": {
        "id": "PBdgktHnTI0V"
      },
      "outputs": [],
      "source": [
        "\n",
        "import pandas as pd\n",
        "import numpy as np\n",
        "import seaborn as sns\n",
        "import matplotlib.pyplot as plt"
      ]
    },
    {
      "cell_type": "code",
      "execution_count": null,
      "metadata": {
        "id": "6HApA9MUTaWU"
      },
      "outputs": [],
      "source": [
        "df = pd.read_csv(\"/content/globalterrorism.csv\", encoding='ISO-8859-1')"
      ]
    },
    {
      "cell_type": "code",
      "execution_count": null,
      "metadata": {
        "id": "9oHivO3nTttF"
      },
      "outputs": [],
      "source": [
        "\n",
        "import warnings\n",
        "warnings.filterwarnings(\"ignore\")"
      ]
    },
    {
      "cell_type": "code",
      "execution_count": null,
      "metadata": {
        "colab": {
          "base_uri": "https://localhost:8080/",
          "height": 394
        },
        "id": "ovwkVRjmT4q1",
        "outputId": "33acb26d-44f3-4951-ce9c-eb0f7af69b65"
      },
      "outputs": [
        {
          "data": {
            "text/html": [
              "\n",
              "\n",
              "  <div id=\"df-25f2581a-abe9-4873-bcec-c670cd58830c\">\n",
              "    <div class=\"colab-df-container\">\n",
              "      <div>\n",
              "<style scoped>\n",
              "    .dataframe tbody tr th:only-of-type {\n",
              "        vertical-align: middle;\n",
              "    }\n",
              "\n",
              "    .dataframe tbody tr th {\n",
              "        vertical-align: top;\n",
              "    }\n",
              "\n",
              "    .dataframe thead th {\n",
              "        text-align: right;\n",
              "    }\n",
              "</style>\n",
              "<table border=\"1\" class=\"dataframe\">\n",
              "  <thead>\n",
              "    <tr style=\"text-align: right;\">\n",
              "      <th></th>\n",
              "      <th>eventid</th>\n",
              "      <th>iyear</th>\n",
              "      <th>imonth</th>\n",
              "      <th>iday</th>\n",
              "      <th>extended</th>\n",
              "      <th>country</th>\n",
              "      <th>region</th>\n",
              "      <th>latitude</th>\n",
              "      <th>longitude</th>\n",
              "      <th>specificity</th>\n",
              "      <th>...</th>\n",
              "      <th>ransomamt</th>\n",
              "      <th>ransomamtus</th>\n",
              "      <th>ransompaid</th>\n",
              "      <th>ransompaidus</th>\n",
              "      <th>hostkidoutcome</th>\n",
              "      <th>nreleased</th>\n",
              "      <th>INT_LOG</th>\n",
              "      <th>INT_IDEO</th>\n",
              "      <th>INT_MISC</th>\n",
              "      <th>INT_ANY</th>\n",
              "    </tr>\n",
              "  </thead>\n",
              "  <tbody>\n",
              "    <tr>\n",
              "      <th>count</th>\n",
              "      <td>1.658100e+04</td>\n",
              "      <td>16581.000000</td>\n",
              "      <td>16581.000000</td>\n",
              "      <td>16581.000000</td>\n",
              "      <td>16581.000000</td>\n",
              "      <td>16581.000000</td>\n",
              "      <td>16581.000000</td>\n",
              "      <td>15975.000000</td>\n",
              "      <td>15975.000000</td>\n",
              "      <td>16581.000000</td>\n",
              "      <td>...</td>\n",
              "      <td>4.170000e+02</td>\n",
              "      <td>1.0</td>\n",
              "      <td>8.800000e+01</td>\n",
              "      <td>1.0</td>\n",
              "      <td>638.000000</td>\n",
              "      <td>486.000000</td>\n",
              "      <td>16580.000000</td>\n",
              "      <td>16580.000000</td>\n",
              "      <td>16580.000000</td>\n",
              "      <td>16580.000000</td>\n",
              "    </tr>\n",
              "    <tr>\n",
              "      <th>mean</th>\n",
              "      <td>1.978029e+11</td>\n",
              "      <td>1977.966045</td>\n",
              "      <td>6.201978</td>\n",
              "      <td>15.155962</td>\n",
              "      <td>0.020445</td>\n",
              "      <td>183.120258</td>\n",
              "      <td>5.524878</td>\n",
              "      <td>27.875821</td>\n",
              "      <td>-28.932087</td>\n",
              "      <td>1.253543</td>\n",
              "      <td>...</td>\n",
              "      <td>3.793429e+06</td>\n",
              "      <td>20000.0</td>\n",
              "      <td>1.351280e+06</td>\n",
              "      <td>0.0</td>\n",
              "      <td>2.888715</td>\n",
              "      <td>8.341564</td>\n",
              "      <td>-3.738118</td>\n",
              "      <td>-3.693667</td>\n",
              "      <td>0.263450</td>\n",
              "      <td>-2.668034</td>\n",
              "    </tr>\n",
              "    <tr>\n",
              "      <th>std</th>\n",
              "      <td>3.266916e+08</td>\n",
              "      <td>3.270107</td>\n",
              "      <td>3.415697</td>\n",
              "      <td>8.949768</td>\n",
              "      <td>0.141521</td>\n",
              "      <td>170.441089</td>\n",
              "      <td>3.372000</td>\n",
              "      <td>22.109249</td>\n",
              "      <td>55.936993</td>\n",
              "      <td>0.905089</td>\n",
              "      <td>...</td>\n",
              "      <td>4.932135e+07</td>\n",
              "      <td>NaN</td>\n",
              "      <td>4.853561e+06</td>\n",
              "      <td>NaN</td>\n",
              "      <td>1.280881</td>\n",
              "      <td>28.437426</td>\n",
              "      <td>4.552678</td>\n",
              "      <td>4.601334</td>\n",
              "      <td>0.657961</td>\n",
              "      <td>4.561017</td>\n",
              "    </tr>\n",
              "    <tr>\n",
              "      <th>min</th>\n",
              "      <td>1.970000e+11</td>\n",
              "      <td>1970.000000</td>\n",
              "      <td>0.000000</td>\n",
              "      <td>0.000000</td>\n",
              "      <td>0.000000</td>\n",
              "      <td>4.000000</td>\n",
              "      <td>1.000000</td>\n",
              "      <td>-45.867889</td>\n",
              "      <td>-157.818968</td>\n",
              "      <td>1.000000</td>\n",
              "      <td>...</td>\n",
              "      <td>0.000000e+00</td>\n",
              "      <td>20000.0</td>\n",
              "      <td>0.000000e+00</td>\n",
              "      <td>0.0</td>\n",
              "      <td>2.000000</td>\n",
              "      <td>-99.000000</td>\n",
              "      <td>-9.000000</td>\n",
              "      <td>-9.000000</td>\n",
              "      <td>-9.000000</td>\n",
              "      <td>-9.000000</td>\n",
              "    </tr>\n",
              "    <tr>\n",
              "      <th>25%</th>\n",
              "      <td>1.976092e+11</td>\n",
              "      <td>1976.000000</td>\n",
              "      <td>3.000000</td>\n",
              "      <td>7.000000</td>\n",
              "      <td>0.000000</td>\n",
              "      <td>69.000000</td>\n",
              "      <td>2.000000</td>\n",
              "      <td>13.692880</td>\n",
              "      <td>-86.600964</td>\n",
              "      <td>1.000000</td>\n",
              "      <td>...</td>\n",
              "      <td>0.000000e+00</td>\n",
              "      <td>20000.0</td>\n",
              "      <td>0.000000e+00</td>\n",
              "      <td>0.0</td>\n",
              "      <td>2.000000</td>\n",
              "      <td>1.000000</td>\n",
              "      <td>-9.000000</td>\n",
              "      <td>-9.000000</td>\n",
              "      <td>0.000000</td>\n",
              "      <td>-9.000000</td>\n",
              "    </tr>\n",
              "    <tr>\n",
              "      <th>50%</th>\n",
              "      <td>1.979051e+11</td>\n",
              "      <td>1979.000000</td>\n",
              "      <td>6.000000</td>\n",
              "      <td>15.000000</td>\n",
              "      <td>0.000000</td>\n",
              "      <td>110.000000</td>\n",
              "      <td>8.000000</td>\n",
              "      <td>35.689125</td>\n",
              "      <td>-6.443767</td>\n",
              "      <td>1.000000</td>\n",
              "      <td>...</td>\n",
              "      <td>0.000000e+00</td>\n",
              "      <td>20000.0</td>\n",
              "      <td>7.050000e+04</td>\n",
              "      <td>0.0</td>\n",
              "      <td>2.000000</td>\n",
              "      <td>1.000000</td>\n",
              "      <td>0.000000</td>\n",
              "      <td>0.000000</td>\n",
              "      <td>0.000000</td>\n",
              "      <td>0.000000</td>\n",
              "    </tr>\n",
              "    <tr>\n",
              "      <th>75%</th>\n",
              "      <td>1.980121e+11</td>\n",
              "      <td>1980.000000</td>\n",
              "      <td>9.000000</td>\n",
              "      <td>23.000000</td>\n",
              "      <td>0.000000</td>\n",
              "      <td>217.000000</td>\n",
              "      <td>8.000000</td>\n",
              "      <td>43.291618</td>\n",
              "      <td>9.991586</td>\n",
              "      <td>1.000000</td>\n",
              "      <td>...</td>\n",
              "      <td>4.150000e+05</td>\n",
              "      <td>20000.0</td>\n",
              "      <td>7.250000e+05</td>\n",
              "      <td>0.0</td>\n",
              "      <td>4.000000</td>\n",
              "      <td>2.000000</td>\n",
              "      <td>0.000000</td>\n",
              "      <td>0.000000</td>\n",
              "      <td>1.000000</td>\n",
              "      <td>1.000000</td>\n",
              "    </tr>\n",
              "    <tr>\n",
              "      <th>max</th>\n",
              "      <td>1.982072e+11</td>\n",
              "      <td>1986.000000</td>\n",
              "      <td>12.000000</td>\n",
              "      <td>31.000000</td>\n",
              "      <td>1.000000</td>\n",
              "      <td>605.000000</td>\n",
              "      <td>12.000000</td>\n",
              "      <td>64.837778</td>\n",
              "      <td>172.636225</td>\n",
              "      <td>5.000000</td>\n",
              "      <td>...</td>\n",
              "      <td>1.000000e+09</td>\n",
              "      <td>20000.0</td>\n",
              "      <td>4.100000e+07</td>\n",
              "      <td>0.0</td>\n",
              "      <td>7.000000</td>\n",
              "      <td>215.000000</td>\n",
              "      <td>1.000000</td>\n",
              "      <td>1.000000</td>\n",
              "      <td>1.000000</td>\n",
              "      <td>1.000000</td>\n",
              "    </tr>\n",
              "  </tbody>\n",
              "</table>\n",
              "<p>8 rows × 81 columns</p>\n",
              "</div>\n",
              "      <button class=\"colab-df-convert\" onclick=\"convertToInteractive('df-25f2581a-abe9-4873-bcec-c670cd58830c')\"\n",
              "              title=\"Convert this dataframe to an interactive table.\"\n",
              "              style=\"display:none;\">\n",
              "\n",
              "  <svg xmlns=\"http://www.w3.org/2000/svg\" height=\"24px\"viewBox=\"0 0 24 24\"\n",
              "       width=\"24px\">\n",
              "    <path d=\"M0 0h24v24H0V0z\" fill=\"none\"/>\n",
              "    <path d=\"M18.56 5.44l.94 2.06.94-2.06 2.06-.94-2.06-.94-.94-2.06-.94 2.06-2.06.94zm-11 1L8.5 8.5l.94-2.06 2.06-.94-2.06-.94L8.5 2.5l-.94 2.06-2.06.94zm10 10l.94 2.06.94-2.06 2.06-.94-2.06-.94-.94-2.06-.94 2.06-2.06.94z\"/><path d=\"M17.41 7.96l-1.37-1.37c-.4-.4-.92-.59-1.43-.59-.52 0-1.04.2-1.43.59L10.3 9.45l-7.72 7.72c-.78.78-.78 2.05 0 2.83L4 21.41c.39.39.9.59 1.41.59.51 0 1.02-.2 1.41-.59l7.78-7.78 2.81-2.81c.8-.78.8-2.07 0-2.86zM5.41 20L4 18.59l7.72-7.72 1.47 1.35L5.41 20z\"/>\n",
              "  </svg>\n",
              "      </button>\n",
              "\n",
              "\n",
              "\n",
              "    <div id=\"df-ae440733-71c7-439a-8e6c-b7a4edbae4b5\">\n",
              "      <button class=\"colab-df-quickchart\" onclick=\"quickchart('df-ae440733-71c7-439a-8e6c-b7a4edbae4b5')\"\n",
              "              title=\"Suggest charts.\"\n",
              "              style=\"display:none;\">\n",
              "\n",
              "<svg xmlns=\"http://www.w3.org/2000/svg\" height=\"24px\"viewBox=\"0 0 24 24\"\n",
              "     width=\"24px\">\n",
              "    <g>\n",
              "        <path d=\"M19 3H5c-1.1 0-2 .9-2 2v14c0 1.1.9 2 2 2h14c1.1 0 2-.9 2-2V5c0-1.1-.9-2-2-2zM9 17H7v-7h2v7zm4 0h-2V7h2v10zm4 0h-2v-4h2v4z\"/>\n",
              "    </g>\n",
              "</svg>\n",
              "      </button>\n",
              "    </div>\n",
              "\n",
              "<style>\n",
              "  .colab-df-quickchart {\n",
              "    background-color: #E8F0FE;\n",
              "    border: none;\n",
              "    border-radius: 50%;\n",
              "    cursor: pointer;\n",
              "    display: none;\n",
              "    fill: #1967D2;\n",
              "    height: 32px;\n",
              "    padding: 0 0 0 0;\n",
              "    width: 32px;\n",
              "  }\n",
              "\n",
              "  .colab-df-quickchart:hover {\n",
              "    background-color: #E2EBFA;\n",
              "    box-shadow: 0px 1px 2px rgba(60, 64, 67, 0.3), 0px 1px 3px 1px rgba(60, 64, 67, 0.15);\n",
              "    fill: #174EA6;\n",
              "  }\n",
              "\n",
              "  [theme=dark] .colab-df-quickchart {\n",
              "    background-color: #3B4455;\n",
              "    fill: #D2E3FC;\n",
              "  }\n",
              "\n",
              "  [theme=dark] .colab-df-quickchart:hover {\n",
              "    background-color: #434B5C;\n",
              "    box-shadow: 0px 1px 3px 1px rgba(0, 0, 0, 0.15);\n",
              "    filter: drop-shadow(0px 1px 2px rgba(0, 0, 0, 0.3));\n",
              "    fill: #FFFFFF;\n",
              "  }\n",
              "</style>\n",
              "\n",
              "    <script>\n",
              "      async function quickchart(key) {\n",
              "        const containerElement = document.querySelector('#' + key);\n",
              "        const charts = await google.colab.kernel.invokeFunction(\n",
              "            'suggestCharts', [key], {});\n",
              "      }\n",
              "    </script>\n",
              "\n",
              "      <script>\n",
              "\n",
              "function displayQuickchartButton(domScope) {\n",
              "  let quickchartButtonEl =\n",
              "    domScope.querySelector('#df-ae440733-71c7-439a-8e6c-b7a4edbae4b5 button.colab-df-quickchart');\n",
              "  quickchartButtonEl.style.display =\n",
              "    google.colab.kernel.accessAllowed ? 'block' : 'none';\n",
              "}\n",
              "\n",
              "        displayQuickchartButton(document);\n",
              "      </script>\n",
              "      <style>\n",
              "    .colab-df-container {\n",
              "      display:flex;\n",
              "      flex-wrap:wrap;\n",
              "      gap: 12px;\n",
              "    }\n",
              "\n",
              "    .colab-df-convert {\n",
              "      background-color: #E8F0FE;\n",
              "      border: none;\n",
              "      border-radius: 50%;\n",
              "      cursor: pointer;\n",
              "      display: none;\n",
              "      fill: #1967D2;\n",
              "      height: 32px;\n",
              "      padding: 0 0 0 0;\n",
              "      width: 32px;\n",
              "    }\n",
              "\n",
              "    .colab-df-convert:hover {\n",
              "      background-color: #E2EBFA;\n",
              "      box-shadow: 0px 1px 2px rgba(60, 64, 67, 0.3), 0px 1px 3px 1px rgba(60, 64, 67, 0.15);\n",
              "      fill: #174EA6;\n",
              "    }\n",
              "\n",
              "    [theme=dark] .colab-df-convert {\n",
              "      background-color: #3B4455;\n",
              "      fill: #D2E3FC;\n",
              "    }\n",
              "\n",
              "    [theme=dark] .colab-df-convert:hover {\n",
              "      background-color: #434B5C;\n",
              "      box-shadow: 0px 1px 3px 1px rgba(0, 0, 0, 0.15);\n",
              "      filter: drop-shadow(0px 1px 2px rgba(0, 0, 0, 0.3));\n",
              "      fill: #FFFFFF;\n",
              "    }\n",
              "  </style>\n",
              "\n",
              "      <script>\n",
              "        const buttonEl =\n",
              "          document.querySelector('#df-25f2581a-abe9-4873-bcec-c670cd58830c button.colab-df-convert');\n",
              "        buttonEl.style.display =\n",
              "          google.colab.kernel.accessAllowed ? 'block' : 'none';\n",
              "\n",
              "        async function convertToInteractive(key) {\n",
              "          const element = document.querySelector('#df-25f2581a-abe9-4873-bcec-c670cd58830c');\n",
              "          const dataTable =\n",
              "            await google.colab.kernel.invokeFunction('convertToInteractive',\n",
              "                                                     [key], {});\n",
              "          if (!dataTable) return;\n",
              "\n",
              "          const docLinkHtml = 'Like what you see? Visit the ' +\n",
              "            '<a target=\"_blank\" href=https://colab.research.google.com/notebooks/data_table.ipynb>data table notebook</a>'\n",
              "            + ' to learn more about interactive tables.';\n",
              "          element.innerHTML = '';\n",
              "          dataTable['output_type'] = 'display_data';\n",
              "          await google.colab.output.renderOutput(dataTable, element);\n",
              "          const docLink = document.createElement('div');\n",
              "          docLink.innerHTML = docLinkHtml;\n",
              "          element.appendChild(docLink);\n",
              "        }\n",
              "      </script>\n",
              "    </div>\n",
              "  </div>\n"
            ],
            "text/plain": [
              "            eventid         iyear        imonth          iday      extended  \\\n",
              "count  1.658100e+04  16581.000000  16581.000000  16581.000000  16581.000000   \n",
              "mean   1.978029e+11   1977.966045      6.201978     15.155962      0.020445   \n",
              "std    3.266916e+08      3.270107      3.415697      8.949768      0.141521   \n",
              "min    1.970000e+11   1970.000000      0.000000      0.000000      0.000000   \n",
              "25%    1.976092e+11   1976.000000      3.000000      7.000000      0.000000   \n",
              "50%    1.979051e+11   1979.000000      6.000000     15.000000      0.000000   \n",
              "75%    1.980121e+11   1980.000000      9.000000     23.000000      0.000000   \n",
              "max    1.982072e+11   1986.000000     12.000000     31.000000      1.000000   \n",
              "\n",
              "            country        region      latitude     longitude   specificity  \\\n",
              "count  16581.000000  16581.000000  15975.000000  15975.000000  16581.000000   \n",
              "mean     183.120258      5.524878     27.875821    -28.932087      1.253543   \n",
              "std      170.441089      3.372000     22.109249     55.936993      0.905089   \n",
              "min        4.000000      1.000000    -45.867889   -157.818968      1.000000   \n",
              "25%       69.000000      2.000000     13.692880    -86.600964      1.000000   \n",
              "50%      110.000000      8.000000     35.689125     -6.443767      1.000000   \n",
              "75%      217.000000      8.000000     43.291618      9.991586      1.000000   \n",
              "max      605.000000     12.000000     64.837778    172.636225      5.000000   \n",
              "\n",
              "       ...     ransomamt  ransomamtus    ransompaid  ransompaidus  \\\n",
              "count  ...  4.170000e+02          1.0  8.800000e+01           1.0   \n",
              "mean   ...  3.793429e+06      20000.0  1.351280e+06           0.0   \n",
              "std    ...  4.932135e+07          NaN  4.853561e+06           NaN   \n",
              "min    ...  0.000000e+00      20000.0  0.000000e+00           0.0   \n",
              "25%    ...  0.000000e+00      20000.0  0.000000e+00           0.0   \n",
              "50%    ...  0.000000e+00      20000.0  7.050000e+04           0.0   \n",
              "75%    ...  4.150000e+05      20000.0  7.250000e+05           0.0   \n",
              "max    ...  1.000000e+09      20000.0  4.100000e+07           0.0   \n",
              "\n",
              "       hostkidoutcome   nreleased       INT_LOG      INT_IDEO      INT_MISC  \\\n",
              "count      638.000000  486.000000  16580.000000  16580.000000  16580.000000   \n",
              "mean         2.888715    8.341564     -3.738118     -3.693667      0.263450   \n",
              "std          1.280881   28.437426      4.552678      4.601334      0.657961   \n",
              "min          2.000000  -99.000000     -9.000000     -9.000000     -9.000000   \n",
              "25%          2.000000    1.000000     -9.000000     -9.000000      0.000000   \n",
              "50%          2.000000    1.000000      0.000000      0.000000      0.000000   \n",
              "75%          4.000000    2.000000      0.000000      0.000000      1.000000   \n",
              "max          7.000000  215.000000      1.000000      1.000000      1.000000   \n",
              "\n",
              "            INT_ANY  \n",
              "count  16580.000000  \n",
              "mean      -2.668034  \n",
              "std        4.561017  \n",
              "min       -9.000000  \n",
              "25%       -9.000000  \n",
              "50%        0.000000  \n",
              "75%        1.000000  \n",
              "max        1.000000  \n",
              "\n",
              "[8 rows x 81 columns]"
            ]
          },
          "execution_count": 7,
          "metadata": {},
          "output_type": "execute_result"
        }
      ],
      "source": [
        "df.describe()\n"
      ]
    },
    {
      "cell_type": "code",
      "execution_count": null,
      "metadata": {
        "colab": {
          "base_uri": "https://localhost:8080/"
        },
        "id": "XcZ3ynNPT_lr",
        "outputId": "8efcd66d-6c53-4e61-ea80-202a8c16f84a"
      },
      "outputs": [
        {
          "data": {
            "text/plain": [
              "(16581, 135)"
            ]
          },
          "execution_count": 8,
          "metadata": {},
          "output_type": "execute_result"
        }
      ],
      "source": [
        "df.shape\n"
      ]
    },
    {
      "cell_type": "code",
      "execution_count": null,
      "metadata": {
        "colab": {
          "base_uri": "https://localhost:8080/"
        },
        "id": "YOvmBE80UOPF",
        "outputId": "4f5870c1-9fa1-4fff-bae5-5e8e406e4e53"
      },
      "outputs": [
        {
          "name": "stdout",
          "output_type": "stream",
          "text": [
            "<class 'pandas.core.frame.DataFrame'>\n",
            "RangeIndex: 16581 entries, 0 to 16580\n",
            "Columns: 135 entries, eventid to related\n",
            "dtypes: float64(63), int64(18), object(54)\n",
            "memory usage: 17.1+ MB\n"
          ]
        }
      ],
      "source": [
        "df.info()"
      ]
    },
    {
      "cell_type": "code",
      "execution_count": null,
      "metadata": {
        "colab": {
          "base_uri": "https://localhost:8080/"
        },
        "id": "0ibnO_4QURzG",
        "outputId": "374727b4-5abb-483a-e440-17799563280d"
      },
      "outputs": [
        {
          "data": {
            "text/plain": [
              "Index(['eventid', 'iyear', 'imonth', 'iday', 'approxdate', 'extended',\n",
              "       'resolution', 'country', 'country_txt', 'region',\n",
              "       ...\n",
              "       'addnotes', 'scite1', 'scite2', 'scite3', 'dbsource', 'INT_LOG',\n",
              "       'INT_IDEO', 'INT_MISC', 'INT_ANY', 'related'],\n",
              "      dtype='object', length=135)"
            ]
          },
          "execution_count": 10,
          "metadata": {},
          "output_type": "execute_result"
        }
      ],
      "source": [
        "df.columns"
      ]
    },
    {
      "cell_type": "code",
      "execution_count": null,
      "metadata": {
        "colab": {
          "base_uri": "https://localhost:8080/"
        },
        "id": "wAGsuvtJUW5u",
        "outputId": "9cde0616-c2c0-4517-afc7-c609918243f4"
      },
      "outputs": [
        {
          "data": {
            "text/plain": [
              "135"
            ]
          },
          "execution_count": 11,
          "metadata": {},
          "output_type": "execute_result"
        }
      ],
      "source": [
        "df.columns.nunique()"
      ]
    },
    {
      "cell_type": "code",
      "execution_count": null,
      "metadata": {
        "id": "BHXyXVBIUbKL"
      },
      "outputs": [],
      "source": [
        "\n",
        "terrorism = df[['iyear', 'imonth', 'iday', 'country_txt', 'region_txt',\n",
        "                       'provstate', 'city', 'attacktype1_txt', 'targtype1_txt',\n",
        "                       'targsubtype1_txt', 'gname', 'weaptype1_txt']]\n"
      ]
    },
    {
      "cell_type": "code",
      "execution_count": null,
      "metadata": {
        "colab": {
          "background_save": true
        },
        "id": "n2W7tDzsUe2D",
        "outputId": "b406003a-a33d-457b-d919-6ebe318ec5b0"
      },
      "outputs": [
        {
          "data": {
            "text/plain": [
              "Index(['eventid', 'iyear', 'imonth', 'iday', 'approxdate', 'extended',\n",
              "       'resolution', 'country', 'country_txt', 'region',\n",
              "       ...\n",
              "       'addnotes', 'scite1', 'scite2', 'scite3', 'dbsource', 'INT_LOG',\n",
              "       'INT_IDEO', 'INT_MISC', 'INT_ANY', 'related'],\n",
              "      dtype='object', length=135)"
            ]
          },
          "execution_count": 13,
          "metadata": {},
          "output_type": "execute_result"
        }
      ],
      "source": []
    }
  ],
  "metadata": {
    "colab": {
      "provenance": [],
      "authorship_tag": "ABX9TyNok91CBPvYwZS1VebQFI7u",
      "include_colab_link": true
    },
    "kernelspec": {
      "display_name": "Python 3",
      "name": "python3"
    },
    "language_info": {
      "name": "python"
    }
  },
  "nbformat": 4,
  "nbformat_minor": 0
}